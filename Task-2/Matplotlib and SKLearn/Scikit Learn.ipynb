{
 "cells": [
  {
   "cell_type": "code",
   "execution_count": 1,
   "id": "9b780abf",
   "metadata": {},
   "outputs": [],
   "source": [
    "from sklearn import datasets\n",
    "import numpy as np\n",
    "from sklearn.model_selection import train_test_split\n",
    "from sklearn import svm\n",
    "from sklearn.metrics import accuracy_score\n",
    "\n",
    "# IRIS dataset\n",
    "iris = datasets.load_iris()\n",
    "X = iris.data\n",
    "y = iris.target"
   ]
  },
  {
   "cell_type": "code",
   "execution_count": 4,
   "id": "5c6e952f",
   "metadata": {},
   "outputs": [],
   "source": [
    "classes = ['Iris Setosa', 'Iris Versicolour', 'Iris Virginica']"
   ]
  },
  {
   "cell_type": "code",
   "execution_count": 5,
   "id": "324fd848",
   "metadata": {},
   "outputs": [],
   "source": [
    "X_train, X_test, y_train, y_test = train_test_split(X, y, test_size=0.2)"
   ]
  },
  {
   "cell_type": "code",
   "execution_count": 6,
   "id": "fec82957",
   "metadata": {},
   "outputs": [
    {
     "data": {
      "text/plain": [
       "SVC()"
      ]
     },
     "execution_count": 6,
     "metadata": {},
     "output_type": "execute_result"
    }
   ],
   "source": [
    "model = svm.SVC()\n",
    "model.fit(X_train, y_train)"
   ]
  },
  {
   "cell_type": "code",
   "execution_count": 7,
   "id": "1e048731",
   "metadata": {},
   "outputs": [
    {
     "name": "stdout",
     "output_type": "stream",
     "text": [
      "SVC()\n"
     ]
    }
   ],
   "source": [
    "print(model)"
   ]
  },
  {
   "cell_type": "code",
   "execution_count": 8,
   "id": "160a65ba",
   "metadata": {},
   "outputs": [],
   "source": [
    "predictions = model.predict(X_test)\n",
    "acc = accuracy_score(y_test, predictions)"
   ]
  },
  {
   "cell_type": "code",
   "execution_count": 9,
   "id": "a8b27e70",
   "metadata": {},
   "outputs": [
    {
     "data": {
      "text/plain": [
       "1.0"
      ]
     },
     "execution_count": 9,
     "metadata": {},
     "output_type": "execute_result"
    }
   ],
   "source": [
    "acc"
   ]
  },
  {
   "cell_type": "code",
   "execution_count": 12,
   "id": "7fccc608",
   "metadata": {},
   "outputs": [
    {
     "data": {
      "text/plain": [
       "array([0, 2, 0, 1, 1, 1, 2, 0, 1, 0, 2, 2, 1, 0, 2, 0, 2, 2, 1, 1, 0, 2,\n",
       "       0, 2, 0, 1, 0, 1, 1, 2])"
      ]
     },
     "execution_count": 12,
     "metadata": {},
     "output_type": "execute_result"
    }
   ],
   "source": [
    "predictions"
   ]
  },
  {
   "cell_type": "code",
   "execution_count": 14,
   "id": "7b5ab629",
   "metadata": {},
   "outputs": [],
   "source": [
    "from sklearn import datasets\n",
    "from sklearn import linear_model\n",
    "from sklearn.model_selection import train_test_split\n",
    "from matplotlib import pyplot as plt\n",
    "\n",
    "boston = datasets.load_boston()\n",
    "\n",
    "#featres / labels\n",
    "X = boston.data\n",
    "y = boston.target"
   ]
  },
  {
   "cell_type": "code",
   "execution_count": 15,
   "id": "ffdc05dd",
   "metadata": {},
   "outputs": [],
   "source": [
    "l_reg = linear_model.LinearRegression()"
   ]
  },
  {
   "cell_type": "code",
   "execution_count": 20,
   "id": "c8d3c8d8",
   "metadata": {},
   "outputs": [
    {
     "data": {
      "text/plain": [
       "(506, 13)"
      ]
     },
     "execution_count": 20,
     "metadata": {},
     "output_type": "execute_result"
    }
   ],
   "source": [
    "X.shape"
   ]
  },
  {
   "cell_type": "code",
   "execution_count": 22,
   "id": "c0342f44",
   "metadata": {},
   "outputs": [
    {
     "data": {
      "text/plain": [
       "array([[6.3200e-03, 1.8000e+01, 2.3100e+00, ..., 1.5300e+01, 3.9690e+02,\n",
       "        4.9800e+00],\n",
       "       [2.7310e-02, 0.0000e+00, 7.0700e+00, ..., 1.7800e+01, 3.9690e+02,\n",
       "        9.1400e+00],\n",
       "       [2.7290e-02, 0.0000e+00, 7.0700e+00, ..., 1.7800e+01, 3.9283e+02,\n",
       "        4.0300e+00],\n",
       "       ...,\n",
       "       [6.0760e-02, 0.0000e+00, 1.1930e+01, ..., 2.1000e+01, 3.9690e+02,\n",
       "        5.6400e+00],\n",
       "       [1.0959e-01, 0.0000e+00, 1.1930e+01, ..., 2.1000e+01, 3.9345e+02,\n",
       "        6.4800e+00],\n",
       "       [4.7410e-02, 0.0000e+00, 1.1930e+01, ..., 2.1000e+01, 3.9690e+02,\n",
       "        7.8800e+00]])"
      ]
     },
     "execution_count": 22,
     "metadata": {},
     "output_type": "execute_result"
    }
   ],
   "source": [
    "X"
   ]
  },
  {
   "cell_type": "code",
   "execution_count": 24,
   "id": "3dfbdab8",
   "metadata": {},
   "outputs": [
    {
     "data": {
      "text/plain": [
       "(506,)"
      ]
     },
     "execution_count": 24,
     "metadata": {},
     "output_type": "execute_result"
    }
   ],
   "source": [
    "# Transposing for the 5th feature. You can select 0-12, each number depicts a feature needed. 1st feature data points is the first column\n",
    "# hence for 1 column, we just get an array, and that matches our predictions. (506, 13) and (506,)\n",
    "X.T[5].shape"
   ]
  },
  {
   "cell_type": "code",
   "execution_count": 21,
   "id": "4040e1b1",
   "metadata": {},
   "outputs": [
    {
     "data": {
      "text/plain": [
       "(506,)"
      ]
     },
     "execution_count": 21,
     "metadata": {},
     "output_type": "execute_result"
    }
   ],
   "source": [
    "y.shape"
   ]
  },
  {
   "cell_type": "code",
   "execution_count": 31,
   "id": "acc38af9",
   "metadata": {},
   "outputs": [
    {
     "data": {
      "text/plain": [
       "<matplotlib.collections.PathCollection at 0x219217f6730>"
      ]
     },
     "execution_count": 31,
     "metadata": {},
     "output_type": "execute_result"
    },
    {
     "data": {
      "image/png": "[encoded data removed]",
      "text/plain": [
       "<Figure size 432x288 with 1 Axes>"
      ]
     },
     "metadata": {
      "needs_background": "light"
     },
     "output_type": "display_data"
    }
   ],
   "source": [
    "%matplotlib inline\n",
    "plt.scatter(X.T[5], y)"
   ]
  },
  {
   "cell_type": "code",
   "execution_count": 32,
   "id": "7823bd88",
   "metadata": {},
   "outputs": [
    {
     "data": {
      "text/plain": [
       "<matplotlib.collections.PathCollection at 0x2192185f190>"
      ]
     },
     "execution_count": 32,
     "metadata": {},
     "output_type": "execute_result"
    },
    {
     "data": {
      "image/png": "[encoded data removed]",
      "text/plain": [
       "<Figure size 432x288 with 1 Axes>"
      ]
     },
     "metadata": {
      "needs_background": "light"
     },
     "output_type": "display_data"
    }
   ],
   "source": [
    "plt.scatter(X.T[4], y)"
   ]
  },
  {
   "cell_type": "code",
   "execution_count": 33,
   "id": "1d9ab8de",
   "metadata": {},
   "outputs": [],
   "source": [
    "X_train, X_test, y_train, y_test = train_test_split(X, y, test_size=0.2)\n",
    "\n",
    "#train\n",
    "model = l_reg.fit(X_train, y_train)"
   ]
  },
  {
   "cell_type": "code",
   "execution_count": 34,
   "id": "cc4f7d85",
   "metadata": {},
   "outputs": [],
   "source": [
    "predictions = model.predict(X_test)"
   ]
  },
  {
   "cell_type": "code",
   "execution_count": 35,
   "id": "72d1b869",
   "metadata": {},
   "outputs": [
    {
     "name": "stdout",
     "output_type": "stream",
     "text": [
      "R^2:  0.7386372828818748\n"
     ]
    }
   ],
   "source": [
    "# Residual predictions, (y_pred - y_test)^2\n",
    "print(\"R^2: \", l_reg.score(X, y))"
   ]
  },
  {
   "cell_type": "code",
   "execution_count": 36,
   "id": "57476a79",
   "metadata": {},
   "outputs": [
    {
     "name": "stdout",
     "output_type": "stream",
     "text": [
      "coeff:  [-8.80500128e-02  4.98556172e-02 -1.67436574e-02  2.89603249e+00\n",
      " -1.62308692e+01  3.78183028e+00  7.41240879e-03 -1.34312505e+00\n",
      "  3.18682081e-01 -1.37384502e-02 -9.34502327e-01  7.64740505e-03\n",
      " -5.42100276e-01]\n"
     ]
    }
   ],
   "source": [
    "# Scale factor of multiplication, slope basically\n",
    "print(\"coeff: \", l_reg.coef_)"
   ]
  },
  {
   "cell_type": "code",
   "execution_count": 37,
   "id": "bf312a5d",
   "metadata": {},
   "outputs": [
    {
     "name": "stdout",
     "output_type": "stream",
     "text": [
      "intercept:  35.9315181198417\n"
     ]
    }
   ],
   "source": [
    "# y-intercept\n",
    "print(\"intercept: \", l_reg.intercept_)"
   ]
  },
  {
   "cell_type": "markdown",
   "id": "9bad0d01",
   "metadata": {},
   "source": [
    "### KNN"
   ]
  },
  {
   "cell_type": "code",
   "execution_count": 40,
   "id": "957fac77",
   "metadata": {},
   "outputs": [],
   "source": [
    "from sklearn.datasets import load_breast_cancer\n",
    "from sklearn.cluster import KMeans\n",
    "from sklearn.model_selection import train_test_split\n",
    "from sklearn.metrics import accuracy_score\n",
    "import pandas as pd\n",
    "from sklearn.preprocessing import scale"
   ]
  },
  {
   "cell_type": "code",
   "execution_count": 41,
   "id": "9e9f768b",
   "metadata": {},
   "outputs": [],
   "source": [
    "df = load_breast_cancer()"
   ]
  },
  {
   "cell_type": "code",
   "execution_count": 50,
   "id": "92ef310b",
   "metadata": {},
   "outputs": [
    {
     "name": "stdout",
     "output_type": "stream",
     "text": [
      "[[ 1.09706398 -2.07333501  1.26993369 ...  2.29607613  2.75062224\n",
      "   1.93701461]\n",
      " [ 1.82982061 -0.35363241  1.68595471 ...  1.0870843  -0.24388967\n",
      "   0.28118999]\n",
      " [ 1.57988811  0.45618695  1.56650313 ...  1.95500035  1.152255\n",
      "   0.20139121]\n",
      " ...\n",
      " [ 0.70228425  2.0455738   0.67267578 ...  0.41406869 -1.10454895\n",
      "  -0.31840916]\n",
      " [ 1.83834103  2.33645719  1.98252415 ...  2.28998549  1.91908301\n",
      "   2.21963528]\n",
      " [-1.80840125  1.22179204 -1.81438851 ... -1.74506282 -0.04813821\n",
      "  -0.75120669]]\n"
     ]
    }
   ],
   "source": [
    "X = scale(df.data)\n",
    "print(X)"
   ]
  },
  {
   "cell_type": "code",
   "execution_count": 52,
   "id": "d9593d07",
   "metadata": {},
   "outputs": [],
   "source": [
    "y = df.target"
   ]
  },
  {
   "cell_type": "code",
   "execution_count": 53,
   "id": "91816aa1",
   "metadata": {},
   "outputs": [
    {
     "data": {
      "text/plain": [
       "KMeans(n_clusters=2, random_state=0)"
      ]
     },
     "execution_count": 53,
     "metadata": {},
     "output_type": "execute_result"
    }
   ],
   "source": [
    "X_train, X_test, y_train, y_test = train_test_split(X, y, test_size=0.2)\n",
    "\n",
    "model = KMeans(n_clusters=2, random_state=0)\n",
    "\n",
    "model.fit(X_train)"
   ]
  },
  {
   "cell_type": "code",
   "execution_count": 54,
   "id": "8676717e",
   "metadata": {},
   "outputs": [],
   "source": [
    "predictions = model.predict(X_test)"
   ]
  },
  {
   "cell_type": "code",
   "execution_count": 56,
   "id": "7b74bc9e",
   "metadata": {},
   "outputs": [],
   "source": [
    "labels = model.labels_"
   ]
  },
  {
   "cell_type": "code",
   "execution_count": 58,
   "id": "a31d0dd2",
   "metadata": {},
   "outputs": [
    {
     "name": "stdout",
     "output_type": "stream",
     "text": [
      "Predictions:  [1 1 0 0 0 0 0 0 1 0 0 1 1 0 1 0 0 0 1 0 0 1 1 0 1 0 1 1 0 1 0 0 1 1 0 0 0\n",
      " 0 0 1 1 0 1 0 0 1 1 0 0 0 0 0 0 1 1 0 0 0 0 1 1 0 1 0 0 0 0 1 0 0 0 1 0 0\n",
      " 1 0 1 0 0 1 0 0 0 0 0 1 0 0 0 0 0 1 1 1 1 0 1 1 1 0 0 0 1 0 1 0 1 0 1 0 0\n",
      " 0 1 1]\n",
      "accuracy:  0.05263157894736842\n",
      "Actual:  [0 0 1 1 1 1 1 1 0 1 1 1 0 1 0 1 0 1 0 1 1 0 0 1 0 1 0 0 1 0 1 1 0 0 1 1 1\n",
      " 1 1 0 0 1 0 1 1 0 0 1 1 1 1 1 1 0 0 1 1 1 1 0 0 1 0 1 1 1 1 0 1 1 1 0 1 1\n",
      " 0 1 0 1 1 0 1 1 1 1 1 0 1 0 1 1 1 0 0 0 1 1 0 1 0 1 1 1 0 1 0 1 0 1 0 1 1\n",
      " 1 0 1]\n"
     ]
    }
   ],
   "source": [
    "# print(\"labels: \", labels)\n",
    "print(\"Predictions: \", predictions)\n",
    "print(\"accuracy: \", accuracy_score(y_test, predictions))\n",
    "print(\"Actual: \", y_test)"
   ]
  },
  {
   "cell_type": "code",
   "execution_count": 63,
   "id": "f516392a",
   "metadata": {},
   "outputs": [],
   "source": [
    "import numpy as np\n",
    "from sklearn.datasets import load_digits\n",
    "from sklearn.preprocessing import StandardScaler\n",
    "from sklearn.neural_network import MLPClassifier\n",
    "from sklearn.metrics import confusion_matrix\n",
    "from sklearn import svm"
   ]
  },
  {
   "cell_type": "code",
   "execution_count": 91,
   "id": "c5a96e6b",
   "metadata": {},
   "outputs": [],
   "source": [
    "# Flatten images so that the classifier can be used on it\n",
    "digits = datasets.load_digits()\n",
    "\n",
    "n_samples = len(digits.images)\n",
    "data = digits.images.reshape((n_samples, -1))"
   ]
  },
  {
   "cell_type": "code",
   "execution_count": 93,
   "id": "1be24443",
   "metadata": {},
   "outputs": [
    {
     "data": {
      "text/plain": [
       "(1797, 8, 8)"
      ]
     },
     "execution_count": 93,
     "metadata": {},
     "output_type": "execute_result"
    }
   ],
   "source": [
    "digits.images.shape"
   ]
  },
  {
   "cell_type": "code",
   "execution_count": 94,
   "id": "161476a9",
   "metadata": {},
   "outputs": [
    {
     "data": {
      "text/plain": [
       "(1797, 64)"
      ]
     },
     "execution_count": 94,
     "metadata": {},
     "output_type": "execute_result"
    }
   ],
   "source": [
    "data.shape"
   ]
  },
  {
   "cell_type": "code",
   "execution_count": 97,
   "id": "b544fada",
   "metadata": {},
   "outputs": [
    {
     "data": {
      "text/plain": [
       "array([0, 1, 2, ..., 8, 9, 8])"
      ]
     },
     "execution_count": 97,
     "metadata": {},
     "output_type": "execute_result"
    }
   ],
   "source": [
    "digits.target  # The labels"
   ]
  },
  {
   "cell_type": "code",
   "execution_count": 98,
   "id": "fed7dae1",
   "metadata": {},
   "outputs": [],
   "source": [
    "X_train, X_test, y_train, y_test = train_test_split(data, digits.target, test_size=0.5, shuffle=False)"
   ]
  },
  {
   "cell_type": "code",
   "execution_count": 95,
   "id": "d9a146c5",
   "metadata": {},
   "outputs": [],
   "source": [
    "# Multi-layer Perceptron classifier. It uses stochastic gradient descent.\n",
    "clf = MLPClassifier(solver='adam', activation='relu', hidden_layer_sizes=(64, 64))"
   ]
  },
  {
   "cell_type": "code",
   "execution_count": 99,
   "id": "3769172b",
   "metadata": {},
   "outputs": [
    {
     "data": {
      "text/plain": [
       "MLPClassifier(hidden_layer_sizes=(64, 64))"
      ]
     },
     "execution_count": 99,
     "metadata": {},
     "output_type": "execute_result"
    }
   ],
   "source": [
    "clf.fit(X_train, y_train)"
   ]
  },
  {
   "cell_type": "code",
   "execution_count": 100,
   "id": "040700a3",
   "metadata": {},
   "outputs": [
    {
     "name": "stdout",
     "output_type": "stream",
     "text": [
      "accuracy:  0.92880978865406\n"
     ]
    }
   ],
   "source": [
    "acc = clf.score(X_test, y_test)\n",
    "print('accuracy: ', acc)"
   ]
  },
  {
   "cell_type": "code",
   "execution_count": 102,
   "id": "1452099d",
   "metadata": {},
   "outputs": [],
   "source": [
    "predicted = clf.predict(X_test)"
   ]
  },
  {
   "cell_type": "code",
   "execution_count": 135,
   "id": "8b4db262",
   "metadata": {},
   "outputs": [
    {
     "data": {
      "image/png": "[encoded data removed]",
      "text/plain": [
       "<Figure size 720x216 with 4 Axes>"
      ]
     },
     "metadata": {
      "needs_background": "light"
     },
     "output_type": "display_data"
    }
   ],
   "source": [
    "_, axes = plt.subplots(nrows=1, ncols=4, figsize=(10, 3))\n",
    "for ax, image, prediction in zip(axes, X_test, predicted):\n",
    "    ax.set_axis_off()\n",
    "    image = image.reshape(8, 8)\n",
    "    ax.imshow(image, cmap=plt.cm.gray_r, interpolation='nearest')\n",
    "    ax.set_title(f'Prediction: {prediction}')"
   ]
  },
  {
   "cell_type": "code",
   "execution_count": 126,
   "id": "de3463a0",
   "metadata": {},
   "outputs": [
    {
     "data": {
      "text/plain": [
       "array([[ 0.,  0.,  1., 11., 14., 15.,  3.,  0.],\n",
       "       [ 0.,  1., 13., 16., 12., 16.,  8.,  0.],\n",
       "       [ 0.,  8., 16.,  4.,  6., 16.,  5.,  0.],\n",
       "       [ 0.,  5., 15., 11., 13., 14.,  0.,  0.],\n",
       "       [ 0.,  0.,  2., 12., 16., 13.,  0.,  0.],\n",
       "       [ 0.,  0.,  0., 13., 16., 16.,  6.,  0.],\n",
       "       [ 0.,  0.,  0., 16., 16., 16.,  7.,  0.],\n",
       "       [ 0.,  0.,  0., 11., 13., 12.,  1.,  0.]])"
      ]
     },
     "execution_count": 126,
     "metadata": {},
     "output_type": "execute_result"
    }
   ],
   "source": [
    "X_test[0.reshape((8,8))"
   ]
  },
  {
   "cell_type": "code",
   "execution_count": 127,
   "id": "809789a9",
   "metadata": {},
   "outputs": [
    {
     "data": {
      "text/plain": [
       "array([ 0.,  0.,  1., 11., 14., 15.,  3.,  0.,  0.,  1., 13., 16., 12.,\n",
       "       16.,  8.,  0.,  0.,  8., 16.,  4.,  6., 16.,  5.,  0.,  0.,  5.,\n",
       "       15., 11., 13., 14.,  0.,  0.,  0.,  0.,  2., 12., 16., 13.,  0.,\n",
       "        0.,  0.,  0.,  0., 13., 16., 16.,  6.,  0.,  0.,  0.,  0., 16.,\n",
       "       16., 16.,  7.,  0.,  0.,  0.,  0., 11., 13., 12.,  1.,  0.])"
      ]
     },
     "execution_count": 127,
     "metadata": {},
     "output_type": "execute_result"
    }
   ],
   "source": [
    "X_test[0]"
   ]
  },
  {
   "cell_type": "code",
   "execution_count": 114,
   "id": "11198fb7",
   "metadata": {},
   "outputs": [
    {
     "data": {
      "text/plain": [
       "array([<AxesSubplot:title={'center':'Prediction: 8'}>,\n",
       "       <AxesSubplot:title={'center':'Prediction: 6'}>,\n",
       "       <AxesSubplot:title={'center':'Prediction: 4'}>,\n",
       "       <AxesSubplot:title={'center':'Prediction: 9'}>], dtype=object)"
      ]
     },
     "execution_count": 114,
     "metadata": {},
     "output_type": "execute_result"
    }
   ],
   "source": [
    "axes"
   ]
  },
  {
   "cell_type": "code",
   "execution_count": 113,
   "id": "6e116025",
   "metadata": {},
   "outputs": [
    {
     "data": {
      "text/plain": [
       "[(<AxesSubplot:title={'center':'Prediction: 8'}>,\n",
       "  array([ 0.,  0.,  1., 11., 14., 15.,  3.,  0.,  0.,  1., 13., 16., 12.,\n",
       "         16.,  8.,  0.,  0.,  8., 16.,  4.,  6., 16.,  5.,  0.,  0.,  5.,\n",
       "         15., 11., 13., 14.,  0.,  0.,  0.,  0.,  2., 12., 16., 13.,  0.,\n",
       "          0.,  0.,  0.,  0., 13., 16., 16.,  6.,  0.,  0.,  0.,  0., 16.,\n",
       "         16., 16.,  7.,  0.,  0.,  0.,  0., 11., 13., 12.,  1.,  0.]),\n",
       "  8),\n",
       " (<AxesSubplot:title={'center':'Prediction: 6'}>,\n",
       "  array([ 0.,  0.,  6., 14., 16.,  5.,  0.,  0.,  0.,  2., 16., 16., 16.,\n",
       "          7.,  0.,  0.,  0.,  2., 15., 16., 15.,  2.,  0.,  0.,  0.,  0.,\n",
       "          6., 16., 15.,  7.,  0.,  0.,  0.,  0., 14., 10.,  6., 16.,  3.,\n",
       "          0.,  0.,  1., 16.,  3.,  0., 16.,  7.,  0.,  0.,  0., 10., 11.,\n",
       "         11., 15.,  3.,  0.,  0.,  0.,  3., 14., 16.,  6.,  0.,  0.]),\n",
       "  6),\n",
       " (<AxesSubplot:title={'center':'Prediction: 4'}>,\n",
       "  array([ 0.,  0.,  0.,  4., 15.,  6.,  0.,  0.,  0.,  0.,  0., 13., 13.,\n",
       "          1.,  0.,  0.,  0.,  0.,  7., 16.,  2.,  0.,  0.,  0.,  0.,  4.,\n",
       "         15.,  8.,  0.,  5.,  0.,  0.,  0., 11., 14.,  1.,  6., 16.,  5.,\n",
       "          0.,  1., 16., 14., 12., 16., 16.,  3.,  0.,  0., 10., 12., 10.,\n",
       "         16., 10.,  0.,  0.,  0.,  0.,  0.,  6., 16.,  2.,  0.,  0.]),\n",
       "  4),\n",
       " (<AxesSubplot:title={'center':'Prediction: 9'}>,\n",
       "  array([ 0.,  0.,  1.,  9., 15., 11.,  3.,  0.,  0.,  0., 12.,  9.,  1.,\n",
       "         11.,  6.,  0.,  0.,  0., 13.,  7.,  6., 16.,  8.,  0.,  0.,  0.,\n",
       "          4., 10., 12., 15.,  4.,  0.,  0.,  0.,  0.,  0.,  0., 12.,  6.,\n",
       "          0.,  0.,  8.,  7.,  0.,  0., 15.,  5.,  0.,  0.,  1., 12., 10.,\n",
       "          4., 16.,  3.,  0.,  0.,  0.,  0., 13., 16.,  8.,  0.,  0.]),\n",
       "  9)]"
      ]
     },
     "execution_count": 113,
     "metadata": {},
     "output_type": "execute_result"
    }
   ],
   "source": [
    "list(zip(axes, X_test, predicted))"
   ]
  },
  {
   "cell_type": "code",
   "execution_count": null,
   "id": "be1bec50",
   "metadata": {},
   "outputs": [],
   "source": []
  }
 ],
 "metadata": {
  "kernelspec": {
   "display_name": "Python 3",
   "language": "python",
   "name": "python3"
  },
  "language_info": {
   "codemirror_mode": {
    "name": "ipython",
    "version": 3
   },
   "file_extension": ".py",
   "mimetype": "text/x-python",
   "name": "python",
   "nbconvert_exporter": "python",
   "pygments_lexer": "ipython3",
   "version": "3.8.3"
  }
 },
 "nbformat": 4,
 "nbformat_minor": 5
}
